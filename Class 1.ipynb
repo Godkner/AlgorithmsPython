{
 "cells": [
  {
   "cell_type": "code",
   "execution_count": 2,
   "id": "b4fcfdb1",
   "metadata": {},
   "outputs": [
    {
     "name": "stdout",
     "output_type": "stream",
     "text": [
      "H\n",
      "e\n",
      "l\n",
      "l\n",
      "o\n",
      ",\n",
      " \n",
      "W\n",
      "o\n",
      "r\n",
      "l\n",
      "d\n"
     ]
    }
   ],
   "source": [
    "for letter in \"Hello, World\":\n",
    "    print(letter)\n",
    "    "
   ]
  },
  {
   "cell_type": "markdown",
   "id": "c1587a51",
   "metadata": {},
   "source": [
    "# Challenge 1: Anagrame checker \n",
    "### Given two strings(string_a and string_b) write a function that returns, True if these are anagrams of each other, False otherwise.\\\n",
    "*Crieria*\n",
    "> two strings are anagrams of each other if all the conditions below are met:\n",
    "> 1. They must be of equal length.\n",
    "> 2. They must use the exact same characteres (the same amount of time)\n",
    "\n",
    "```\n",
    "heart and earth\n",
    "cars anf scar\n",
    "rats and star\n",
    "\n",
    "```\n"
   ]
  },
  {
   "cell_type": "code",
   "execution_count": 4,
   "id": "f2141a59",
   "metadata": {},
   "outputs": [],
   "source": [
    "#Assesment/ Assembly/ Action\n",
    "\n",
    "def anagram_check(string_a,string_b):\n",
    "    string_a =string_a.lower().replace(\" \", \"\")\n",
    "    string_b =string_b.lower().replace(\" \", \"\")\n",
    "    if len(string_a) != len(string_b):\n",
    "        return False\n",
    "    seen_a=dict()\n",
    "    seen_b=dict()\n",
    "    for index in range(len(string_a)):\n",
    "       if string_a[index] in seen_a.keys():\n",
    "            string_a[index]+=1 \n",
    "       else:\n",
    "            string_a[index]=1\n",
    "       if string_b[index] in seen_b.keys():\n",
    "            string_b[index]+=1\n",
    "       else:\n",
    "          string_b[index]=1\n",
    "    return seen_a ==seen_b\n",
    "             "
   ]
  },
  {
   "cell_type": "code",
   "execution_count": null,
   "id": "64428ade",
   "metadata": {},
   "outputs": [],
   "source": []
  },
  {
   "cell_type": "code",
   "execution_count": null,
   "id": "1bf3233b",
   "metadata": {},
   "outputs": [],
   "source": []
  }
 ],
 "metadata": {
  "kernelspec": {
   "display_name": "Python 3 (ipykernel)",
   "language": "python",
   "name": "python3"
  },
  "language_info": {
   "codemirror_mode": {
    "name": "ipython",
    "version": 3
   },
   "file_extension": ".py",
   "mimetype": "text/x-python",
   "name": "python",
   "nbconvert_exporter": "python",
   "pygments_lexer": "ipython3",
   "version": "3.10.6"
  }
 },
 "nbformat": 4,
 "nbformat_minor": 5
}
