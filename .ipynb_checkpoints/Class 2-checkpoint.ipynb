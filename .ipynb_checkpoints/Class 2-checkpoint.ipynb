{
 "cells": [
  {
   "cell_type": "code",
   "execution_count": 1,
   "id": "6d76867e",
   "metadata": {},
   "outputs": [],
   "source": [
    "#The simplifield approach\n",
    "\n",
    "class Stack:\n",
    "    def __init__(self):\n",
    "        self.items = []\n",
    "        \n",
    "    def push(self,element):\n",
    "        self.items.append(element)\n",
    "        \n",
    "    def pop(self):\n",
    "        return self.items.pop()\n",
    "    \n",
    "    #nice to have methods: \n",
    "    def is_empty(self):\n",
    "        return self.items ==[]\n",
    "    def size(self):\n",
    "        return len(self.items)\n",
    "    \n",
    "    def peek(self):\n",
    "        return self,items[len(self.items)-1]\n",
    "    \n"
   ]
  },
  {
   "cell_type": "code",
   "execution_count": 2,
   "id": "2de55c89",
   "metadata": {},
   "outputs": [
    {
     "data": {
      "text/plain": [
       "'niveK'"
      ]
     },
     "execution_count": 2,
     "metadata": {},
     "output_type": "execute_result"
    }
   ],
   "source": [
    "def invert_str(mystring):\n",
    "    stack= Stack()\n",
    "    for letter in mystring:\n",
    "        stack.push(letter)\n",
    "    out =\"\"\n",
    "    while not stack.is_empty():\n",
    "        out+= stack.pop()\n",
    "    return out\n",
    "invert_str(\"Kevin\")"
   ]
  },
  {
   "cell_type": "code",
   "execution_count": 3,
   "id": "5f125a74",
   "metadata": {},
   "outputs": [],
   "source": [
    "class Node:\n",
    "    def __init__(self,data):\n",
    "        self.data =data\n",
    "        self.above=None"
   ]
  },
  {
   "cell_type": "code",
   "execution_count": 4,
   "id": "a6db72db",
   "metadata": {},
   "outputs": [],
   "source": [
    "class Stack:\n",
    "    def __init__(self):\n",
    "        self.base=None\n",
    "        \n",
    "    def push(self,element):\n",
    "        #what happens if our stack is empty and push is called?\n",
    "        new_node= Node(element)\n",
    "        if not self.base:\n",
    "            self.base= new_node\n",
    "        else:\n",
    "            current =self.base\n",
    "            while current.above:\n",
    "                current= current.above\n",
    "                current.above=new_node\n",
    "    def pop(self):\n",
    "        if not self.base:   #equivalent to \"if self.base== None\"\n",
    "            raise IndexError(\"Stack is empty\") #raise an exception\n",
    "        else:\n",
    "            current= self.base\n",
    "            prev= None\n",
    "            while current.above:\n",
    "                prev=current\n",
    "                current= current.above\n",
    "            if not prev:\n",
    "                datum=self.base.data\n",
    "                self.base=None\n",
    "                return datum\n",
    "            else:\n",
    "                datum=current.data\n",
    "                prev.above=None\n",
    "                return datum\n",
    "    \n",
    "    def is_empty(self):\n",
    "        return self.base== None\n",
    "    \n",
    "    def size(self):\n",
    "        count= 0\n",
    "         current = self.base\n",
    "        while current:\n",
    "            count += 1\n",
    "            current = current.above\n",
    "        return count\n",
    "    \n",
    "    def peek(self):\n",
    "        \n",
    "    \n",
    "    def __len__(self):\n",
    "        return self.size()"
   ]
  },
  {
   "cell_type": "code",
   "execution_count": 6,
   "id": "d97eea8d",
   "metadata": {},
   "outputs": [
    {
     "name": "stdout",
     "output_type": "stream",
     "text": [
      "6\n",
      "139874171077008\n",
      "139874171076976\n"
     ]
    }
   ],
   "source": [
    "#primary data types\n",
    "#int, float, bool, imaginary\n",
    "#pass dby value\n",
    "\n",
    "x=5\n",
    "y=x\n",
    "x=x+1\n",
    "print(x)\n",
    "print(id(x))\n",
    "print(id(y))"
   ]
  },
  {
   "cell_type": "code",
   "execution_count": 7,
   "id": "e25a1afb",
   "metadata": {},
   "outputs": [
    {
     "name": "stdout",
     "output_type": "stream",
     "text": [
      "[1, 2, 3, 4]\n"
     ]
    }
   ],
   "source": [
    "#other data types\n",
    "#Pass by reference\n",
    "\n",
    "x=[1,2,3]\n",
    "y=x\n",
    "\n",
    "x.append(4)\n",
    "print(y)"
   ]
  },
  {
   "cell_type": "code",
   "execution_count": 9,
   "id": "9aa44d37",
   "metadata": {},
   "outputs": [],
   "source": [
    "#Simplified queue\n",
    "\n",
    "class Queue:\n",
    "    def __init__(self):\n",
    "        self.items=[]\n",
    "    def enqueue(self, element):\n",
    "        self.items.insert(0, element)\n",
    "        \n",
    "    def dequeue(self):\n",
    "        return self.items.pop()\n",
    "    #nice to have\n",
    "    def is_empty(self):\n",
    "        return self.items ==[]\n",
    "        \n",
    "    def size(self):\n",
    "        return len(self.items)\n",
    "    \n",
    "    def peek(self):\n",
    "        return self.items[len(self.items)-1]\n",
    "    \n",
    "    "
   ]
  },
  {
   "cell_type": "code",
   "execution_count": null,
   "id": "d0d8cbcd",
   "metadata": {},
   "outputs": [],
   "source": [
    "#In our stack implementation,we choose to keep track of the base node; How would keeping track of \n",
    "#the top node change performance?\n",
    "\n",
    "#Extra:\n",
    "#try your hand at the \"romscra\""
   ]
  }
 ],
 "metadata": {
  "kernelspec": {
   "display_name": "Python 3 (ipykernel)",
   "language": "python",
   "name": "python3"
  },
  "language_info": {
   "codemirror_mode": {
    "name": "ipython",
    "version": 3
   },
   "file_extension": ".py",
   "mimetype": "text/x-python",
   "name": "python",
   "nbconvert_exporter": "python",
   "pygments_lexer": "ipython3",
   "version": "3.10.6"
  }
 },
 "nbformat": 4,
 "nbformat_minor": 5
}
